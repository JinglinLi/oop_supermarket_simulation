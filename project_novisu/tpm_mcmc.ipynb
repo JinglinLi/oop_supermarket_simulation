{
 "cells": [
  {
   "cell_type": "markdown",
   "source": [
    "## Supermarket Simulation : Markov Chain Simulation of Customer Behavior"
   ],
   "metadata": {}
  },
  {
   "cell_type": "code",
   "execution_count": 1,
   "source": [
    "import glob\n",
    "import random\n",
    "import pandas as pd"
   ],
   "outputs": [],
   "metadata": {}
  },
  {
   "cell_type": "markdown",
   "source": [
    "#### read data and prepare dataframe for transition probability calculation"
   ],
   "metadata": {}
  },
  {
   "cell_type": "code",
   "execution_count": 2,
   "source": [
    "# prepare dataframe for calculating transition probability matrix \n",
    "data_all = pd.DataFrame()\n",
    "for file in glob.glob('../data/*.csv'):\n",
    "    weekday_tag = file[8:10] # prefix for customer_no\n",
    "    print(weekday_tag)\n",
    "    df = pd.read_csv(file, sep=';', parse_dates=True, index_col=[0])\n",
    "    df['customer_no'] = weekday_tag + df['customer_no'].astype(str) # add weekday_tag\n",
    "    df.groupby('customer_no').resample('1 min').ffill() # groupby customer\n",
    "    df_fill= df.groupby('customer_no').resample('1 min').ffill() # resample in 1 min resolution\n",
    "    df_fill['before'] = df_fill['location'].shift(1).fillna('entrance') # set first Nan as entrance\n",
    "    # set shifted checkout from last customer as entrance\n",
    "    df_fill['before'].loc[df_fill['before']=='checkout'] = 'entrance' \n",
    "    data_all = data_all.append(df_fill)\n",
    "\n",
    "data_all.to_csv('data_all.csv')"
   ],
   "outputs": [
    {
     "output_type": "stream",
     "name": "stdout",
     "text": [
      "tu\n",
      "mo\n",
      "th\n",
      "we\n",
      "fr\n"
     ]
    }
   ],
   "metadata": {}
  },
  {
   "cell_type": "markdown",
   "source": [
    "#### calculate transition probability matrix"
   ],
   "metadata": {}
  },
  {
   "cell_type": "code",
   "execution_count": 3,
   "source": [
    "# calculate the transition probability matrix\n",
    "states = ['entrance', 'dairy', 'drinks', 'fruit','spices','checkout']\n",
    "tpm = pd.DataFrame(0, index=states, columns=states) # iniciate transformation probability matrix\n",
    "tpm = tpm + pd.crosstab(data_all['before'], data_all['location'], normalize=0) # fill in calculated values\n",
    "tpm.fillna(0, inplace=True) # fillna with probability=0\n",
    "tpm['checkout'].iloc[tpm.index == 'checkout'] = 1 # checkout the absorbtion state\n",
    "tpm.to_csv('tpm.csv')\n",
    "tpm"
   ],
   "outputs": [
    {
     "output_type": "execute_result",
     "data": {
      "text/plain": [
       "          checkout     dairy    drinks  entrance     fruit    spices\n",
       "checkout  1.000000  0.000000  0.000000       0.0  0.000000  0.000000\n",
       "dairy     0.102678  0.737032  0.058625       0.0  0.050073  0.051592\n",
       "drinks    0.215505  0.011001  0.598499       0.0  0.088012  0.086983\n",
       "entrance  0.000000  0.287583  0.153296       0.0  0.377646  0.181475\n",
       "fruit     0.201054  0.095924  0.055241       0.0  0.597104  0.050677\n",
       "spices    0.149888  0.193533  0.163109       0.0  0.091271  0.402198"
      ],
      "text/html": [
       "<div>\n",
       "<style scoped>\n",
       "    .dataframe tbody tr th:only-of-type {\n",
       "        vertical-align: middle;\n",
       "    }\n",
       "\n",
       "    .dataframe tbody tr th {\n",
       "        vertical-align: top;\n",
       "    }\n",
       "\n",
       "    .dataframe thead th {\n",
       "        text-align: right;\n",
       "    }\n",
       "</style>\n",
       "<table border=\"1\" class=\"dataframe\">\n",
       "  <thead>\n",
       "    <tr style=\"text-align: right;\">\n",
       "      <th></th>\n",
       "      <th>checkout</th>\n",
       "      <th>dairy</th>\n",
       "      <th>drinks</th>\n",
       "      <th>entrance</th>\n",
       "      <th>fruit</th>\n",
       "      <th>spices</th>\n",
       "    </tr>\n",
       "  </thead>\n",
       "  <tbody>\n",
       "    <tr>\n",
       "      <th>checkout</th>\n",
       "      <td>1.000000</td>\n",
       "      <td>0.000000</td>\n",
       "      <td>0.000000</td>\n",
       "      <td>0.0</td>\n",
       "      <td>0.000000</td>\n",
       "      <td>0.000000</td>\n",
       "    </tr>\n",
       "    <tr>\n",
       "      <th>dairy</th>\n",
       "      <td>0.102678</td>\n",
       "      <td>0.737032</td>\n",
       "      <td>0.058625</td>\n",
       "      <td>0.0</td>\n",
       "      <td>0.050073</td>\n",
       "      <td>0.051592</td>\n",
       "    </tr>\n",
       "    <tr>\n",
       "      <th>drinks</th>\n",
       "      <td>0.215505</td>\n",
       "      <td>0.011001</td>\n",
       "      <td>0.598499</td>\n",
       "      <td>0.0</td>\n",
       "      <td>0.088012</td>\n",
       "      <td>0.086983</td>\n",
       "    </tr>\n",
       "    <tr>\n",
       "      <th>entrance</th>\n",
       "      <td>0.000000</td>\n",
       "      <td>0.287583</td>\n",
       "      <td>0.153296</td>\n",
       "      <td>0.0</td>\n",
       "      <td>0.377646</td>\n",
       "      <td>0.181475</td>\n",
       "    </tr>\n",
       "    <tr>\n",
       "      <th>fruit</th>\n",
       "      <td>0.201054</td>\n",
       "      <td>0.095924</td>\n",
       "      <td>0.055241</td>\n",
       "      <td>0.0</td>\n",
       "      <td>0.597104</td>\n",
       "      <td>0.050677</td>\n",
       "    </tr>\n",
       "    <tr>\n",
       "      <th>spices</th>\n",
       "      <td>0.149888</td>\n",
       "      <td>0.193533</td>\n",
       "      <td>0.163109</td>\n",
       "      <td>0.0</td>\n",
       "      <td>0.091271</td>\n",
       "      <td>0.402198</td>\n",
       "    </tr>\n",
       "  </tbody>\n",
       "</table>\n",
       "</div>"
      ]
     },
     "metadata": {},
     "execution_count": 3
    }
   ],
   "metadata": {}
  },
  {
   "cell_type": "markdown",
   "source": [
    "#### one simple simulation"
   ],
   "metadata": {}
  },
  {
   "cell_type": "code",
   "execution_count": 4,
   "source": [
    "# run one simple markov chain simulation\n",
    "inside = 1 # not jet checktout\n",
    "state_list = ['entrance'] # iniciate sequence starting with entrance\n",
    "while inside:\n",
    "    states = tpm.columns\n",
    "    # markov chain\n",
    "    state = random.choices(states, weights=tpm.iloc[tpm.index == state_list[-1]].values.tolist()[0])\n",
    "    state_list += state # apend state\n",
    "    if state == ['checkout']:\n",
    "        inside = 0\n",
    "        break\n",
    "state_list"
   ],
   "outputs": [
    {
     "output_type": "execute_result",
     "data": {
      "text/plain": [
       "['entrance', 'drinks', 'checkout']"
      ]
     },
     "metadata": {},
     "execution_count": 4
    }
   ],
   "metadata": {}
  },
  {
   "cell_type": "code",
   "execution_count": null,
   "source": [],
   "outputs": [],
   "metadata": {}
  }
 ],
 "metadata": {
  "orig_nbformat": 4,
  "language_info": {
   "name": "python",
   "version": "3.8.8",
   "mimetype": "text/x-python",
   "codemirror_mode": {
    "name": "ipython",
    "version": 3
   },
   "pygments_lexer": "ipython3",
   "nbconvert_exporter": "python",
   "file_extension": ".py"
  },
  "kernelspec": {
   "name": "python3",
   "display_name": "Python 3.8.8 64-bit (conda)"
  },
  "interpreter": {
   "hash": "e693f81ce65b2d86a8ccaa4486a6c3213eba987e9092bbfb488d6be295156d0f"
  }
 },
 "nbformat": 4,
 "nbformat_minor": 2
}